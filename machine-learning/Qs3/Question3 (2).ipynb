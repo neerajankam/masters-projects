{
 "cells": [
  {
   "cell_type": "markdown",
   "metadata": {},
   "source": [
    "Importing all the necessary functions and libraries to run the code"
   ]
  },
  {
   "cell_type": "code",
   "execution_count": 5,
   "metadata": {
    "collapsed": true
   },
   "outputs": [],
   "source": [
    "import numpy as np\n",
    "import pandas as pd\n",
    "from sklearn import linear_model\n",
    "from sklearn.kernel_ridge import KernelRidge\n",
    "from sklearn.model_selection import train_test_split\n",
    "from sklearn.preprocessing import MinMaxScaler\n",
    "from sklearn.model_selection import GridSearchCV\n",
    "import matplotlib.pyplot as plt\n",
    "from sklearn import svm\n",
    "from sklearn.svm import SVC\n",
    "from sklearn.metrics import accuracy_score\n",
    "from sklearn.metrics import confusion_matrix\n",
    "from sklearn import preprocessing\n",
    "import seaborn as sns\n"
   ]
  },
  {
   "cell_type": "markdown",
   "metadata": {},
   "source": [
    "Loading the data as pandas dataframe and specifying the required columns. I pre-processed the data in Excel by shifting the cells into their appropriate columns and also shuffled all the observations by creating a new column of random values and sorting them. You can find the data printed below"
   ]
  },
  {
   "cell_type": "code",
   "execution_count": 6,
   "metadata": {
    "collapsed": true
   },
   "outputs": [],
   "source": [
    "data = pd.read_csv(\"C:/Users/neeraj/Downloads/classification_data2.csv\")"
   ]
  },
  {
   "cell_type": "code",
   "execution_count": 7,
   "metadata": {},
   "outputs": [
    {
     "name": "stdout",
     "output_type": "stream",
     "text": [
      "      area  perimeter  compactness  kernel_length  kernel_width   asym  \\\n",
      "0    11.56      13.31       0.8198          5.363         2.683  4.062   \n",
      "1    16.63      15.46       0.8747          6.053         3.465  2.040   \n",
      "2    16.77      15.62       0.8638          5.927         3.438  4.920   \n",
      "3    15.49      14.94       0.8724          5.757         3.371  3.412   \n",
      "4    17.55      15.66       0.8991          5.791         3.690  5.366   \n",
      "5    15.69      14.75       0.9058          5.527         3.514  1.599   \n",
      "6    15.38      14.77       0.8857          5.662         3.419  1.999   \n",
      "7    13.74      14.05       0.8744          5.482         3.114  2.932   \n",
      "8    18.81      16.29       0.8906          6.272         3.693  3.237   \n",
      "9    18.36      16.52       0.8452          6.666         3.485  4.933   \n",
      "10   12.36      13.19       0.8923          5.076         3.042  3.220   \n",
      "11   14.38      14.21       0.8951          5.386         3.312  2.462   \n",
      "12   14.79      14.52       0.8819          5.545         3.291  2.704   \n",
      "13   15.38      14.90       0.8706          5.884         3.268  4.462   \n",
      "14   10.93      12.80       0.8390          5.046         2.717  5.398   \n",
      "15   16.20      15.27       0.8734          5.826         3.464  2.823   \n",
      "16   20.16      17.03       0.8735          6.513         3.773  1.910   \n",
      "17   19.46      16.50       0.8985          6.113         3.892  4.308   \n",
      "18   18.94      16.49       0.8750          6.445         3.639  5.064   \n",
      "19   11.24      13.00       0.8359          5.090         2.715  3.521   \n",
      "20   14.29      14.09       0.9050          5.291         3.337  2.699   \n",
      "21   13.34      13.95       0.8620          5.389         3.074  5.995   \n",
      "22   12.44      13.59       0.8462          5.319         2.897  4.924   \n",
      "23   11.19      13.05       0.8253          5.250         2.675  5.813   \n",
      "24   12.26      13.60       0.8333          5.408         2.833  4.756   \n",
      "25   16.16      15.33       0.8644          5.845         3.395  4.266   \n",
      "26   16.14      14.99       0.9034          5.658         3.562  1.355   \n",
      "27   16.53      15.34       0.8823          5.875         3.467  5.532   \n",
      "28   11.48      13.05       0.8473          5.180         2.758  5.876   \n",
      "29   11.65      13.07       0.8575          5.108         2.850  5.209   \n",
      "..     ...        ...          ...            ...           ...    ...   \n",
      "180  19.38      16.72       0.8716          6.303         3.791  3.678   \n",
      "181  15.56      14.89       0.8823          5.776         3.408  4.972   \n",
      "182  13.07      13.92       0.8480          5.472         2.994  5.304   \n",
      "183  19.57      16.74       0.8779          6.384         3.772  1.472   \n",
      "184  13.32      13.94       0.8613          5.541         3.073  7.035   \n",
      "185  11.83      13.23       0.8496          5.263         2.840  5.195   \n",
      "186  14.01      14.29       0.8625          5.609         3.158  2.217   \n",
      "187  19.51      16.71       0.8780          6.366         3.801  2.962   \n",
      "188  14.69      14.49       0.8799          5.563         3.259  3.586   \n",
      "189  19.11      16.26       0.9081          6.154         3.930  2.936   \n",
      "190  18.30      15.89       0.9108          5.979         3.755  2.837   \n",
      "191  12.73      13.75       0.8458          5.412         2.882  3.533   \n",
      "192  10.91      12.80       0.8372          5.088         2.675  4.179   \n",
      "193  18.85      16.17       0.9056          6.152         3.806  2.843   \n",
      "194  15.26      14.84       0.8710          5.763         3.312  2.221   \n",
      "195  15.78      14.91       0.8923          5.674         3.434  5.593   \n",
      "196  12.01      13.52       0.8249          5.405         2.776  6.992   \n",
      "197  12.78      13.57       0.8716          5.262         3.026  1.176   \n",
      "198  15.57      15.15       0.8527          5.920         3.231  2.640   \n",
      "199  10.83      12.96       0.8099          5.278         2.641  5.182   \n",
      "200  13.94      14.17       0.8728          5.585         3.150  2.124   \n",
      "201  13.45      14.02       0.8604          5.516         3.065  3.531   \n",
      "202  18.94      16.32       0.8942          6.144         3.825  2.908   \n",
      "203  14.16      14.40       0.8584          5.658         3.129  3.072   \n",
      "204  14.03      14.16       0.8796          5.438         3.201  1.717   \n",
      "205  20.20      16.89       0.8894          6.285         3.864  5.173   \n",
      "206  18.76      16.20       0.8984          6.172         3.796  3.120   \n",
      "207  20.10      16.99       0.8746          6.581         3.785  1.955   \n",
      "208  20.88      17.05       0.9031          6.450         4.032  5.016   \n",
      "209  12.13      13.73       0.8081          5.394         2.745  4.825   \n",
      "\n",
      "     groove_length  type  \n",
      "0            5.182     3  \n",
      "1            5.877     1  \n",
      "2            5.795     2  \n",
      "3            5.228     1  \n",
      "4            5.661     2  \n",
      "5            5.046     1  \n",
      "6            5.222     1  \n",
      "7            4.825     1  \n",
      "8            6.053     2  \n",
      "9            6.448     2  \n",
      "10           4.605     1  \n",
      "11           4.956     1  \n",
      "12           5.111     1  \n",
      "13           5.795     2  \n",
      "14           5.045     3  \n",
      "15           5.527     1  \n",
      "16           6.185     2  \n",
      "17           6.009     2  \n",
      "18           6.362     2  \n",
      "19           5.088     3  \n",
      "20           4.825     1  \n",
      "21           5.307     3  \n",
      "22           5.270     3  \n",
      "23           5.219     3  \n",
      "24           5.360     3  \n",
      "25           5.795     2  \n",
      "26           5.175     1  \n",
      "27           5.880     2  \n",
      "28           5.002     3  \n",
      "29           5.135     3  \n",
      "..             ...   ...  \n",
      "180          5.965     2  \n",
      "181          5.847     2  \n",
      "182          5.395     3  \n",
      "183          6.273     2  \n",
      "184          5.440     3  \n",
      "185          5.307     3  \n",
      "186          5.132     1  \n",
      "187          6.185     2  \n",
      "188          5.219     1  \n",
      "189          6.079     2  \n",
      "190          5.962     2  \n",
      "191          5.067     1  \n",
      "192          4.956     3  \n",
      "193          6.200     2  \n",
      "194          5.220     1  \n",
      "195          5.136     1  \n",
      "196          5.270     3  \n",
      "197          4.782     1  \n",
      "198          5.879     2  \n",
      "199          5.185     3  \n",
      "200          5.012     1  \n",
      "201          5.097     1  \n",
      "202          5.949     2  \n",
      "203          5.176     1  \n",
      "204          5.001     1  \n",
      "205          6.187     2  \n",
      "206          6.053     2  \n",
      "207          6.449     2  \n",
      "208          6.321     2  \n",
      "209          5.220     3  \n",
      "\n",
      "[210 rows x 8 columns]\n"
     ]
    }
   ],
   "source": [
    "print(data)"
   ]
  },
  {
   "cell_type": "markdown",
   "metadata": {},
   "source": [
    "Gives a description of the data"
   ]
  },
  {
   "cell_type": "code",
   "execution_count": 8,
   "metadata": {},
   "outputs": [
    {
     "data": {
      "text/html": [
       "<div>\n",
       "<style>\n",
       "    .dataframe thead tr:only-child th {\n",
       "        text-align: right;\n",
       "    }\n",
       "\n",
       "    .dataframe thead th {\n",
       "        text-align: left;\n",
       "    }\n",
       "\n",
       "    .dataframe tbody tr th {\n",
       "        vertical-align: top;\n",
       "    }\n",
       "</style>\n",
       "<table border=\"1\" class=\"dataframe\">\n",
       "  <thead>\n",
       "    <tr style=\"text-align: right;\">\n",
       "      <th></th>\n",
       "      <th>area</th>\n",
       "      <th>perimeter</th>\n",
       "      <th>compactness</th>\n",
       "      <th>kernel_length</th>\n",
       "      <th>kernel_width</th>\n",
       "      <th>asym</th>\n",
       "      <th>groove_length</th>\n",
       "      <th>type</th>\n",
       "    </tr>\n",
       "  </thead>\n",
       "  <tbody>\n",
       "    <tr>\n",
       "      <th>count</th>\n",
       "      <td>210.000000</td>\n",
       "      <td>210.000000</td>\n",
       "      <td>210.000000</td>\n",
       "      <td>210.000000</td>\n",
       "      <td>210.000000</td>\n",
       "      <td>210.000000</td>\n",
       "      <td>210.000000</td>\n",
       "      <td>210.000000</td>\n",
       "    </tr>\n",
       "    <tr>\n",
       "      <th>mean</th>\n",
       "      <td>14.847524</td>\n",
       "      <td>14.559286</td>\n",
       "      <td>0.870999</td>\n",
       "      <td>5.628533</td>\n",
       "      <td>3.258605</td>\n",
       "      <td>3.700201</td>\n",
       "      <td>5.408071</td>\n",
       "      <td>2.000000</td>\n",
       "    </tr>\n",
       "    <tr>\n",
       "      <th>std</th>\n",
       "      <td>2.909699</td>\n",
       "      <td>1.305959</td>\n",
       "      <td>0.023629</td>\n",
       "      <td>0.443063</td>\n",
       "      <td>0.377714</td>\n",
       "      <td>1.503557</td>\n",
       "      <td>0.491480</td>\n",
       "      <td>0.818448</td>\n",
       "    </tr>\n",
       "    <tr>\n",
       "      <th>min</th>\n",
       "      <td>10.590000</td>\n",
       "      <td>12.410000</td>\n",
       "      <td>0.808100</td>\n",
       "      <td>4.899000</td>\n",
       "      <td>2.630000</td>\n",
       "      <td>0.765100</td>\n",
       "      <td>4.519000</td>\n",
       "      <td>1.000000</td>\n",
       "    </tr>\n",
       "    <tr>\n",
       "      <th>25%</th>\n",
       "      <td>12.270000</td>\n",
       "      <td>13.450000</td>\n",
       "      <td>0.856900</td>\n",
       "      <td>5.262250</td>\n",
       "      <td>2.944000</td>\n",
       "      <td>2.561500</td>\n",
       "      <td>5.045000</td>\n",
       "      <td>1.000000</td>\n",
       "    </tr>\n",
       "    <tr>\n",
       "      <th>50%</th>\n",
       "      <td>14.355000</td>\n",
       "      <td>14.320000</td>\n",
       "      <td>0.873450</td>\n",
       "      <td>5.523500</td>\n",
       "      <td>3.237000</td>\n",
       "      <td>3.599000</td>\n",
       "      <td>5.223000</td>\n",
       "      <td>2.000000</td>\n",
       "    </tr>\n",
       "    <tr>\n",
       "      <th>75%</th>\n",
       "      <td>17.305000</td>\n",
       "      <td>15.715000</td>\n",
       "      <td>0.887775</td>\n",
       "      <td>5.979750</td>\n",
       "      <td>3.561750</td>\n",
       "      <td>4.768750</td>\n",
       "      <td>5.877000</td>\n",
       "      <td>3.000000</td>\n",
       "    </tr>\n",
       "    <tr>\n",
       "      <th>max</th>\n",
       "      <td>21.180000</td>\n",
       "      <td>17.250000</td>\n",
       "      <td>0.918300</td>\n",
       "      <td>6.675000</td>\n",
       "      <td>4.033000</td>\n",
       "      <td>8.456000</td>\n",
       "      <td>6.550000</td>\n",
       "      <td>3.000000</td>\n",
       "    </tr>\n",
       "  </tbody>\n",
       "</table>\n",
       "</div>"
      ],
      "text/plain": [
       "             area   perimeter  compactness  kernel_length  kernel_width  \\\n",
       "count  210.000000  210.000000   210.000000     210.000000    210.000000   \n",
       "mean    14.847524   14.559286     0.870999       5.628533      3.258605   \n",
       "std      2.909699    1.305959     0.023629       0.443063      0.377714   \n",
       "min     10.590000   12.410000     0.808100       4.899000      2.630000   \n",
       "25%     12.270000   13.450000     0.856900       5.262250      2.944000   \n",
       "50%     14.355000   14.320000     0.873450       5.523500      3.237000   \n",
       "75%     17.305000   15.715000     0.887775       5.979750      3.561750   \n",
       "max     21.180000   17.250000     0.918300       6.675000      4.033000   \n",
       "\n",
       "             asym  groove_length        type  \n",
       "count  210.000000     210.000000  210.000000  \n",
       "mean     3.700201       5.408071    2.000000  \n",
       "std      1.503557       0.491480    0.818448  \n",
       "min      0.765100       4.519000    1.000000  \n",
       "25%      2.561500       5.045000    1.000000  \n",
       "50%      3.599000       5.223000    2.000000  \n",
       "75%      4.768750       5.877000    3.000000  \n",
       "max      8.456000       6.550000    3.000000  "
      ]
     },
     "execution_count": 8,
     "metadata": {},
     "output_type": "execute_result"
    }
   ],
   "source": [
    "data.describe()"
   ]
  },
  {
   "cell_type": "code",
   "execution_count": 10,
   "metadata": {},
   "outputs": [
    {
     "data": {
      "image/png": "[encoded data removed]",
      "text/plain": [
       "<matplotlib.figure.Figure at 0x1e4b8218be0>"
      ]
     },
     "metadata": {},
     "output_type": "display_data"
    },
    {
     "data": {
      "image/png": "[encoded data removed]",
      "text/plain": [
       "<matplotlib.figure.Figure at 0x1e4b8241ba8>"
      ]
     },
     "metadata": {},
     "output_type": "display_data"
    },
    {
     "data": {
      "image/png": "[encoded data removed]",
      "text/plain": [
       "<matplotlib.figure.Figure at 0x1e4b810b400>"
      ]
     },
     "metadata": {},
     "output_type": "display_data"
    },
    {
     "data": {
      "image/png": "[encoded data removed]",
      "text/plain": [
       "<matplotlib.figure.Figure at 0x1e4b8241a58>"
      ]
     },
     "metadata": {},
     "output_type": "display_data"
    },
    {
     "data": {
      "image/png": "[encoded data removed]",
      "text/plain": [
       "<matplotlib.figure.Figure at 0x1e4b96205f8>"
      ]
     },
     "metadata": {},
     "output_type": "display_data"
    }
   ],
   "source": [
    "sns.jointplot(x='area',y='type',data=data)\n",
    "sns.jointplot(x='perimeter',y='type',data=data)\n",
    "sns.jointplot(x='kernel_length',y='type',data=data)\n",
    "sns.jointplot(x='asym',y='type',data=data)\n",
    "sns.jointplot(x='groove_length',y='type',data=data)\n",
    "plt.show()"
   ]
  },
  {
   "cell_type": "markdown",
   "metadata": {},
   "source": [
    "Gives us the correlation values of the attributes"
   ]
  },
  {
   "cell_type": "code",
   "execution_count": 30,
   "metadata": {},
   "outputs": [
    {
     "data": {
      "text/html": [
       "<div>\n",
       "<style>\n",
       "    .dataframe thead tr:only-child th {\n",
       "        text-align: right;\n",
       "    }\n",
       "\n",
       "    .dataframe thead th {\n",
       "        text-align: left;\n",
       "    }\n",
       "\n",
       "    .dataframe tbody tr th {\n",
       "        vertical-align: top;\n",
       "    }\n",
       "</style>\n",
       "<table border=\"1\" class=\"dataframe\">\n",
       "  <thead>\n",
       "    <tr style=\"text-align: right;\">\n",
       "      <th></th>\n",
       "      <th>area</th>\n",
       "      <th>perimeter</th>\n",
       "      <th>compactness</th>\n",
       "      <th>kernel_length</th>\n",
       "      <th>kernel_width</th>\n",
       "      <th>asym</th>\n",
       "      <th>groove_length</th>\n",
       "      <th>type</th>\n",
       "    </tr>\n",
       "  </thead>\n",
       "  <tbody>\n",
       "    <tr>\n",
       "      <th>area</th>\n",
       "      <td>1.000000</td>\n",
       "      <td>0.994341</td>\n",
       "      <td>0.608288</td>\n",
       "      <td>0.949985</td>\n",
       "      <td>0.970771</td>\n",
       "      <td>-0.229572</td>\n",
       "      <td>0.863693</td>\n",
       "      <td>-0.346058</td>\n",
       "    </tr>\n",
       "    <tr>\n",
       "      <th>perimeter</th>\n",
       "      <td>0.994341</td>\n",
       "      <td>1.000000</td>\n",
       "      <td>0.529244</td>\n",
       "      <td>0.972422</td>\n",
       "      <td>0.944829</td>\n",
       "      <td>-0.217340</td>\n",
       "      <td>0.890784</td>\n",
       "      <td>-0.327900</td>\n",
       "    </tr>\n",
       "    <tr>\n",
       "      <th>compactness</th>\n",
       "      <td>0.608288</td>\n",
       "      <td>0.529244</td>\n",
       "      <td>1.000000</td>\n",
       "      <td>0.367915</td>\n",
       "      <td>0.761635</td>\n",
       "      <td>-0.331471</td>\n",
       "      <td>0.226825</td>\n",
       "      <td>-0.531007</td>\n",
       "    </tr>\n",
       "    <tr>\n",
       "      <th>kernel_length</th>\n",
       "      <td>0.949985</td>\n",
       "      <td>0.972422</td>\n",
       "      <td>0.367915</td>\n",
       "      <td>1.000000</td>\n",
       "      <td>0.860415</td>\n",
       "      <td>-0.171562</td>\n",
       "      <td>0.932806</td>\n",
       "      <td>-0.257269</td>\n",
       "    </tr>\n",
       "    <tr>\n",
       "      <th>kernel_width</th>\n",
       "      <td>0.970771</td>\n",
       "      <td>0.944829</td>\n",
       "      <td>0.761635</td>\n",
       "      <td>0.860415</td>\n",
       "      <td>1.000000</td>\n",
       "      <td>-0.258037</td>\n",
       "      <td>0.749131</td>\n",
       "      <td>-0.423463</td>\n",
       "    </tr>\n",
       "    <tr>\n",
       "      <th>asym</th>\n",
       "      <td>-0.229572</td>\n",
       "      <td>-0.217340</td>\n",
       "      <td>-0.331471</td>\n",
       "      <td>-0.171562</td>\n",
       "      <td>-0.258037</td>\n",
       "      <td>1.000000</td>\n",
       "      <td>-0.011079</td>\n",
       "      <td>0.577273</td>\n",
       "    </tr>\n",
       "    <tr>\n",
       "      <th>groove_length</th>\n",
       "      <td>0.863693</td>\n",
       "      <td>0.890784</td>\n",
       "      <td>0.226825</td>\n",
       "      <td>0.932806</td>\n",
       "      <td>0.749131</td>\n",
       "      <td>-0.011079</td>\n",
       "      <td>1.000000</td>\n",
       "      <td>0.024301</td>\n",
       "    </tr>\n",
       "    <tr>\n",
       "      <th>type</th>\n",
       "      <td>-0.346058</td>\n",
       "      <td>-0.327900</td>\n",
       "      <td>-0.531007</td>\n",
       "      <td>-0.257269</td>\n",
       "      <td>-0.423463</td>\n",
       "      <td>0.577273</td>\n",
       "      <td>0.024301</td>\n",
       "      <td>1.000000</td>\n",
       "    </tr>\n",
       "  </tbody>\n",
       "</table>\n",
       "</div>"
      ],
      "text/plain": [
       "                   area  perimeter  compactness  kernel_length  kernel_width  \\\n",
       "area           1.000000   0.994341     0.608288       0.949985      0.970771   \n",
       "perimeter      0.994341   1.000000     0.529244       0.972422      0.944829   \n",
       "compactness    0.608288   0.529244     1.000000       0.367915      0.761635   \n",
       "kernel_length  0.949985   0.972422     0.367915       1.000000      0.860415   \n",
       "kernel_width   0.970771   0.944829     0.761635       0.860415      1.000000   \n",
       "asym          -0.229572  -0.217340    -0.331471      -0.171562     -0.258037   \n",
       "groove_length  0.863693   0.890784     0.226825       0.932806      0.749131   \n",
       "type          -0.346058  -0.327900    -0.531007      -0.257269     -0.423463   \n",
       "\n",
       "                   asym  groove_length      type  \n",
       "area          -0.229572       0.863693 -0.346058  \n",
       "perimeter     -0.217340       0.890784 -0.327900  \n",
       "compactness   -0.331471       0.226825 -0.531007  \n",
       "kernel_length -0.171562       0.932806 -0.257269  \n",
       "kernel_width  -0.258037       0.749131 -0.423463  \n",
       "asym           1.000000      -0.011079  0.577273  \n",
       "groove_length -0.011079       1.000000  0.024301  \n",
       "type           0.577273       0.024301  1.000000  "
      ]
     },
     "execution_count": 30,
     "metadata": {},
     "output_type": "execute_result"
    }
   ],
   "source": [
    "data.corr()"
   ]
  },
  {
   "cell_type": "markdown",
   "metadata": {},
   "source": [
    "Loading the features into predictors and the target variable into 'target'"
   ]
  },
  {
   "cell_type": "code",
   "execution_count": 31,
   "metadata": {},
   "outputs": [
    {
     "name": "stdout",
     "output_type": "stream",
     "text": [
      "      area  perimeter  compactness  kernel_length  kernel_width   asym  \\\n",
      "0    11.56      13.31       0.8198          5.363         2.683  4.062   \n",
      "1    16.63      15.46       0.8747          6.053         3.465  2.040   \n",
      "2    16.77      15.62       0.8638          5.927         3.438  4.920   \n",
      "3    15.49      14.94       0.8724          5.757         3.371  3.412   \n",
      "4    17.55      15.66       0.8991          5.791         3.690  5.366   \n",
      "5    15.69      14.75       0.9058          5.527         3.514  1.599   \n",
      "6    15.38      14.77       0.8857          5.662         3.419  1.999   \n",
      "7    13.74      14.05       0.8744          5.482         3.114  2.932   \n",
      "8    18.81      16.29       0.8906          6.272         3.693  3.237   \n",
      "9    18.36      16.52       0.8452          6.666         3.485  4.933   \n",
      "10   12.36      13.19       0.8923          5.076         3.042  3.220   \n",
      "11   14.38      14.21       0.8951          5.386         3.312  2.462   \n",
      "12   14.79      14.52       0.8819          5.545         3.291  2.704   \n",
      "13   15.38      14.90       0.8706          5.884         3.268  4.462   \n",
      "14   10.93      12.80       0.8390          5.046         2.717  5.398   \n",
      "15   16.20      15.27       0.8734          5.826         3.464  2.823   \n",
      "16   20.16      17.03       0.8735          6.513         3.773  1.910   \n",
      "17   19.46      16.50       0.8985          6.113         3.892  4.308   \n",
      "18   18.94      16.49       0.8750          6.445         3.639  5.064   \n",
      "19   11.24      13.00       0.8359          5.090         2.715  3.521   \n",
      "20   14.29      14.09       0.9050          5.291         3.337  2.699   \n",
      "21   13.34      13.95       0.8620          5.389         3.074  5.995   \n",
      "22   12.44      13.59       0.8462          5.319         2.897  4.924   \n",
      "23   11.19      13.05       0.8253          5.250         2.675  5.813   \n",
      "24   12.26      13.60       0.8333          5.408         2.833  4.756   \n",
      "25   16.16      15.33       0.8644          5.845         3.395  4.266   \n",
      "26   16.14      14.99       0.9034          5.658         3.562  1.355   \n",
      "27   16.53      15.34       0.8823          5.875         3.467  5.532   \n",
      "28   11.48      13.05       0.8473          5.180         2.758  5.876   \n",
      "29   11.65      13.07       0.8575          5.108         2.850  5.209   \n",
      "..     ...        ...          ...            ...           ...    ...   \n",
      "180  19.38      16.72       0.8716          6.303         3.791  3.678   \n",
      "181  15.56      14.89       0.8823          5.776         3.408  4.972   \n",
      "182  13.07      13.92       0.8480          5.472         2.994  5.304   \n",
      "183  19.57      16.74       0.8779          6.384         3.772  1.472   \n",
      "184  13.32      13.94       0.8613          5.541         3.073  7.035   \n",
      "185  11.83      13.23       0.8496          5.263         2.840  5.195   \n",
      "186  14.01      14.29       0.8625          5.609         3.158  2.217   \n",
      "187  19.51      16.71       0.8780          6.366         3.801  2.962   \n",
      "188  14.69      14.49       0.8799          5.563         3.259  3.586   \n",
      "189  19.11      16.26       0.9081          6.154         3.930  2.936   \n",
      "190  18.30      15.89       0.9108          5.979         3.755  2.837   \n",
      "191  12.73      13.75       0.8458          5.412         2.882  3.533   \n",
      "192  10.91      12.80       0.8372          5.088         2.675  4.179   \n",
      "193  18.85      16.17       0.9056          6.152         3.806  2.843   \n",
      "194  15.26      14.84       0.8710          5.763         3.312  2.221   \n",
      "195  15.78      14.91       0.8923          5.674         3.434  5.593   \n",
      "196  12.01      13.52       0.8249          5.405         2.776  6.992   \n",
      "197  12.78      13.57       0.8716          5.262         3.026  1.176   \n",
      "198  15.57      15.15       0.8527          5.920         3.231  2.640   \n",
      "199  10.83      12.96       0.8099          5.278         2.641  5.182   \n",
      "200  13.94      14.17       0.8728          5.585         3.150  2.124   \n",
      "201  13.45      14.02       0.8604          5.516         3.065  3.531   \n",
      "202  18.94      16.32       0.8942          6.144         3.825  2.908   \n",
      "203  14.16      14.40       0.8584          5.658         3.129  3.072   \n",
      "204  14.03      14.16       0.8796          5.438         3.201  1.717   \n",
      "205  20.20      16.89       0.8894          6.285         3.864  5.173   \n",
      "206  18.76      16.20       0.8984          6.172         3.796  3.120   \n",
      "207  20.10      16.99       0.8746          6.581         3.785  1.955   \n",
      "208  20.88      17.05       0.9031          6.450         4.032  5.016   \n",
      "209  12.13      13.73       0.8081          5.394         2.745  4.825   \n",
      "\n",
      "     groove_length  \n",
      "0            5.182  \n",
      "1            5.877  \n",
      "2            5.795  \n",
      "3            5.228  \n",
      "4            5.661  \n",
      "5            5.046  \n",
      "6            5.222  \n",
      "7            4.825  \n",
      "8            6.053  \n",
      "9            6.448  \n",
      "10           4.605  \n",
      "11           4.956  \n",
      "12           5.111  \n",
      "13           5.795  \n",
      "14           5.045  \n",
      "15           5.527  \n",
      "16           6.185  \n",
      "17           6.009  \n",
      "18           6.362  \n",
      "19           5.088  \n",
      "20           4.825  \n",
      "21           5.307  \n",
      "22           5.270  \n",
      "23           5.219  \n",
      "24           5.360  \n",
      "25           5.795  \n",
      "26           5.175  \n",
      "27           5.880  \n",
      "28           5.002  \n",
      "29           5.135  \n",
      "..             ...  \n",
      "180          5.965  \n",
      "181          5.847  \n",
      "182          5.395  \n",
      "183          6.273  \n",
      "184          5.440  \n",
      "185          5.307  \n",
      "186          5.132  \n",
      "187          6.185  \n",
      "188          5.219  \n",
      "189          6.079  \n",
      "190          5.962  \n",
      "191          5.067  \n",
      "192          4.956  \n",
      "193          6.200  \n",
      "194          5.220  \n",
      "195          5.136  \n",
      "196          5.270  \n",
      "197          4.782  \n",
      "198          5.879  \n",
      "199          5.185  \n",
      "200          5.012  \n",
      "201          5.097  \n",
      "202          5.949  \n",
      "203          5.176  \n",
      "204          5.001  \n",
      "205          6.187  \n",
      "206          6.053  \n",
      "207          6.449  \n",
      "208          6.321  \n",
      "209          5.220  \n",
      "\n",
      "[210 rows x 7 columns]\n",
      "0      3\n",
      "1      1\n",
      "2      2\n",
      "3      1\n",
      "4      2\n",
      "5      1\n",
      "6      1\n",
      "7      1\n",
      "8      2\n",
      "9      2\n",
      "10     1\n",
      "11     1\n",
      "12     1\n",
      "13     2\n",
      "14     3\n",
      "15     1\n",
      "16     2\n",
      "17     2\n",
      "18     2\n",
      "19     3\n",
      "20     1\n",
      "21     3\n",
      "22     3\n",
      "23     3\n",
      "24     3\n",
      "25     2\n",
      "26     1\n",
      "27     2\n",
      "28     3\n",
      "29     3\n",
      "      ..\n",
      "180    2\n",
      "181    2\n",
      "182    3\n",
      "183    2\n",
      "184    3\n",
      "185    3\n",
      "186    1\n",
      "187    2\n",
      "188    1\n",
      "189    2\n",
      "190    2\n",
      "191    1\n",
      "192    3\n",
      "193    2\n",
      "194    1\n",
      "195    1\n",
      "196    3\n",
      "197    1\n",
      "198    2\n",
      "199    3\n",
      "200    1\n",
      "201    1\n",
      "202    2\n",
      "203    1\n",
      "204    1\n",
      "205    2\n",
      "206    2\n",
      "207    2\n",
      "208    2\n",
      "209    3\n",
      "Name: type, Length: 210, dtype: int64\n"
     ]
    }
   ],
   "source": [
    "predictors=data.iloc[:, :-1]\n",
    "target=data.iloc[:,-1]\n",
    "print(predictors)\n",
    "print(target)"
   ]
  },
  {
   "cell_type": "markdown",
   "metadata": {},
   "source": [
    "Splitting the entire dataset into training and test datasets and 20% of the data is used to test the accuracy of the model"
   ]
  },
  {
   "cell_type": "code",
   "execution_count": 32,
   "metadata": {
    "collapsed": true
   },
   "outputs": [],
   "source": [
    "X_train, X_test, Y_train, Y_test = train_test_split(predictors, target, test_size=0.2)\n"
   ]
  },
  {
   "cell_type": "markdown",
   "metadata": {},
   "source": [
    "Using Linear Kernel"
   ]
  },
  {
   "cell_type": "code",
   "execution_count": 33,
   "metadata": {},
   "outputs": [
    {
     "name": "stdout",
     "output_type": "stream",
     "text": [
      "Accuracy is :  0.666666666667\n"
     ]
    }
   ],
   "source": [
    "kernel_lin = (GridSearchCV(KernelRidge( kernel='linear'),cv = 5,param_grid={\"alpha\":[1]})).fit(X_train,Y_train)\n",
    "Y_predicted_lin = kernel_lin.predict(X_test)\n",
    "Y_predicted_lin = np.round(Y_predicted_lin)\n",
    "print(\"Accuracy is : \",accuracy_score(Y_test, Y_predicted_lin))"
   ]
  },
  {
   "cell_type": "markdown",
   "metadata": {},
   "source": [
    "Using Polynomial kernel and Grid search to find the best parameters"
   ]
  },
  {
   "cell_type": "code",
   "execution_count": 37,
   "metadata": {},
   "outputs": [
    {
     "name": "stdout",
     "output_type": "stream",
     "text": [
      "Accuracy is:  0.785714285714\n",
      "The best degree is: 2\n"
     ]
    }
   ],
   "source": [
    "kernel_poly = (GridSearchCV(KernelRidge(kernel='polynomial'),cv = 5,param_grid = {\"alpha\":[1],\"coef0\":[1],\"degree\":[2,3],\"gamma\":[1]})).fit(X_train,Y_train)\n",
    "Y_predicted_poly = kernel_poly.predict(X_test)\n",
    "Y_predicted_poly= np.round(Y_predicted_poly)\n",
    "print(\"Accuracy is: \",accuracy_score(Y_test, Y_predicted_poly))\n",
    "print(\"The best degree is:\",kernel_poly.best_estimator_.degree)"
   ]
  },
  {
   "cell_type": "markdown",
   "metadata": {},
   "source": [
    "Using Gaussian kernel with different gamma values and Grid Search to find the best parameters"
   ]
  },
  {
   "cell_type": "code",
   "execution_count": 38,
   "metadata": {},
   "outputs": [
    {
     "name": "stdout",
     "output_type": "stream",
     "text": [
      "Accuracy is:  0.809523809524\n"
     ]
    }
   ],
   "source": [
    "kernel_gaus = (GridSearchCV(KernelRidge(kernel='rbf'),cv = 5,param_grid = {\"gamma\":[0.1,0.5,1,2,4]})).fit(X_train,Y_train)\n",
    "Y_predicted_poly = kernel_gaus.predict(X_test)\n",
    "Y_predicted_poly= np.round(Y_predicted_poly)\n",
    "print(\"Accuracy while using Gaussian Kernel is: \",accuracy_score(Y_test, Y_predicted_poly))\n"
   ]
  },
  {
   "cell_type": "markdown",
   "metadata": {},
   "source": [
    "# Using Logistic Regression to build a model. The best model with dot accuracy!"
   ]
  },
  {
   "cell_type": "code",
   "execution_count": 40,
   "metadata": {
    "scrolled": true
   },
   "outputs": [
    {
     "name": "stdout",
     "output_type": "stream",
     "text": [
      "Accuracy is:  1.0\n"
     ]
    }
   ],
   "source": [
    "log_reg = linear_model.LogisticRegressionCV(cv = 5,).fit(X_train,Y_train)\n",
    "Y_predicted_log = log_reg.predict(X_test)\n",
    "Y_predicted_log = np.round(Y_predicted_log)\n",
    "print(\"Accuracy of logistic regression is: \",accuracy_score(Y_test, Y_predicted_log))"
   ]
  },
  {
   "cell_type": "markdown",
   "metadata": {},
   "source": [
    "Using Soft SVM and different coefficient values"
   ]
  },
  {
   "cell_type": "code",
   "execution_count": 42,
   "metadata": {},
   "outputs": [
    {
     "name": "stdout",
     "output_type": "stream",
     "text": [
      "Accuracy of soft svsm is:  0.904761904762\n"
     ]
    }
   ],
   "source": [
    "soft_svm = GridSearchCV(svm.SVC(), cv=5,param_grid={\"C\": [0.1,0.5,1,2,5]})\n",
    "soft_svm.fit(X_train, Y_train)\n",
    "Y_predicted_svsm = soft_svm.predict(X_test)\n",
    "y_predicted_svsm = np.round(Y_predicted_svsm)\n",
    "print(\"Accuracy of soft svsm is: \",accuracy_score(Y_test, Y_predicted_svsm))\n"
   ]
  },
  {
   "cell_type": "markdown",
   "metadata": {},
   "source": [
    "Using Hard Svm "
   ]
  },
  {
   "cell_type": "code",
   "execution_count": 48,
   "metadata": {},
   "outputs": [
    {
     "name": "stdout",
     "output_type": "stream",
     "text": [
      "Accuracy of hard svsm is:  0.97619047619\n"
     ]
    }
   ],
   "source": [
    "hard_svm = GridSearchCV(svm.SVC(), cv=5,param_grid={\"C\": [987654321000]})\n",
    "hard_svm.fit(X_train, Y_train)\n",
    "Y_predicted_hsvm = hard_svm.predict(X_test)\n",
    "Y_predicted_hsvm = np.round(Y_predicted_hsvm)\n",
    "print(\"Accuracy of hard svsm is: \",accuracy_score(Y_test, Y_predicted_hsvm))"
   ]
  },
  {
   "cell_type": "markdown",
   "metadata": {
    "collapsed": true
   },
   "source": [
    "The best model for this dataset is the model built using Logistic Regression which has a flawless prediction accuracy of 1.0"
   ]
  },
  {
   "cell_type": "code",
   "execution_count": null,
   "metadata": {
    "collapsed": true
   },
   "outputs": [],
   "source": []
  }
 ],
 "metadata": {
  "kernelspec": {
   "display_name": "Python 3",
   "language": "python",
   "name": "python3"
  },
  "language_info": {
   "codemirror_mode": {
    "name": "ipython",
    "version": 3
   },
   "file_extension": ".py",
   "mimetype": "text/x-python",
   "name": "python",
   "nbconvert_exporter": "python",
   "pygments_lexer": "ipython3",
   "version": "3.6.3"
  }
 },
 "nbformat": 4,
 "nbformat_minor": 2
}
